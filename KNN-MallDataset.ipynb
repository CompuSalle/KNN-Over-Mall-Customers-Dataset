{
 "cells": [
  {
   "cell_type": "markdown",
   "id": "2358f0c3",
   "metadata": {},
   "source": [
    "The dataset has been downloaded from [Kaagle](dd)\n",
    "\n",
    "- The dataset has been modified to fit the purpose of the study\n",
    "- The purchased column is added  "
   ]
  },
  {
   "cell_type": "markdown",
   "id": "312271ca",
   "metadata": {},
   "source": [
    "-----------"
   ]
  },
  {
   "cell_type": "markdown",
   "id": "e9e0cc3c",
   "metadata": {},
   "source": [
    "## KNN Training and Predicting"
   ]
  },
  {
   "cell_type": "markdown",
   "id": "f5bf03d0",
   "metadata": {},
   "source": [
    "The purchased column is added according to the given conditions \n",
    "- if the Age is more than 22\n",
    "- if the Annual Income is more than 25\n",
    "- if the Spending Score is more than 30\n",
    "\n",
    "then the preaching prediction will be set to 1, else it is 0"
   ]
  },
  {
   "cell_type": "markdown",
   "id": "36760ad6",
   "metadata": {},
   "source": [
    "-------------"
   ]
  },
  {
   "cell_type": "markdown",
   "id": "85247fa0",
   "metadata": {},
   "source": [
    "### Importing the needed libraries "
   ]
  },
  {
   "cell_type": "markdown",
   "id": "08021d8e",
   "metadata": {},
   "source": [
    "Importing the needed librarys "
   ]
  },
  {
   "cell_type": "code",
   "execution_count": 92,
   "id": "9b5117db",
   "metadata": {},
   "outputs": [],
   "source": [
    "import numpy as np\n",
    "import matplotlib.pyplot as plt\n",
    "import pandas as pd\n",
    "import warnings\n",
    "warnings.filterwarnings('ignore')"
   ]
  },
  {
   "cell_type": "markdown",
   "id": "12db675e",
   "metadata": {},
   "source": [
    "-------"
   ]
  },
  {
   "cell_type": "markdown",
   "id": "8e6c37fa",
   "metadata": {},
   "source": [
    "### Dataset Importing"
   ]
  },
  {
   "cell_type": "code",
   "execution_count": 2,
   "id": "3e960d2f",
   "metadata": {},
   "outputs": [],
   "source": [
    "dataset = pd.read_csv('Mall_Customers.csv')"
   ]
  },
  {
   "cell_type": "code",
   "execution_count": 3,
   "id": "419b1060",
   "metadata": {},
   "outputs": [
    {
     "data": {
      "text/html": [
       "<div>\n",
       "<style scoped>\n",
       "    .dataframe tbody tr th:only-of-type {\n",
       "        vertical-align: middle;\n",
       "    }\n",
       "\n",
       "    .dataframe tbody tr th {\n",
       "        vertical-align: top;\n",
       "    }\n",
       "\n",
       "    .dataframe thead th {\n",
       "        text-align: right;\n",
       "    }\n",
       "</style>\n",
       "<table border=\"1\" class=\"dataframe\">\n",
       "  <thead>\n",
       "    <tr style=\"text-align: right;\">\n",
       "      <th></th>\n",
       "      <th>CustomerID</th>\n",
       "      <th>Gender</th>\n",
       "      <th>Age</th>\n",
       "      <th>Annual Income (k$)</th>\n",
       "      <th>Spending Score (1-100)</th>\n",
       "      <th>Purchased</th>\n",
       "    </tr>\n",
       "  </thead>\n",
       "  <tbody>\n",
       "    <tr>\n",
       "      <th>0</th>\n",
       "      <td>1</td>\n",
       "      <td>Male</td>\n",
       "      <td>19</td>\n",
       "      <td>15</td>\n",
       "      <td>39</td>\n",
       "      <td>0</td>\n",
       "    </tr>\n",
       "    <tr>\n",
       "      <th>1</th>\n",
       "      <td>2</td>\n",
       "      <td>Male</td>\n",
       "      <td>21</td>\n",
       "      <td>15</td>\n",
       "      <td>81</td>\n",
       "      <td>0</td>\n",
       "    </tr>\n",
       "    <tr>\n",
       "      <th>2</th>\n",
       "      <td>3</td>\n",
       "      <td>Female</td>\n",
       "      <td>20</td>\n",
       "      <td>16</td>\n",
       "      <td>6</td>\n",
       "      <td>0</td>\n",
       "    </tr>\n",
       "    <tr>\n",
       "      <th>3</th>\n",
       "      <td>4</td>\n",
       "      <td>Female</td>\n",
       "      <td>23</td>\n",
       "      <td>16</td>\n",
       "      <td>77</td>\n",
       "      <td>0</td>\n",
       "    </tr>\n",
       "    <tr>\n",
       "      <th>4</th>\n",
       "      <td>5</td>\n",
       "      <td>Female</td>\n",
       "      <td>31</td>\n",
       "      <td>17</td>\n",
       "      <td>40</td>\n",
       "      <td>0</td>\n",
       "    </tr>\n",
       "    <tr>\n",
       "      <th>...</th>\n",
       "      <td>...</td>\n",
       "      <td>...</td>\n",
       "      <td>...</td>\n",
       "      <td>...</td>\n",
       "      <td>...</td>\n",
       "      <td>...</td>\n",
       "    </tr>\n",
       "    <tr>\n",
       "      <th>195</th>\n",
       "      <td>196</td>\n",
       "      <td>Female</td>\n",
       "      <td>35</td>\n",
       "      <td>120</td>\n",
       "      <td>79</td>\n",
       "      <td>1</td>\n",
       "    </tr>\n",
       "    <tr>\n",
       "      <th>196</th>\n",
       "      <td>197</td>\n",
       "      <td>Female</td>\n",
       "      <td>45</td>\n",
       "      <td>126</td>\n",
       "      <td>28</td>\n",
       "      <td>0</td>\n",
       "    </tr>\n",
       "    <tr>\n",
       "      <th>197</th>\n",
       "      <td>198</td>\n",
       "      <td>Male</td>\n",
       "      <td>32</td>\n",
       "      <td>126</td>\n",
       "      <td>74</td>\n",
       "      <td>1</td>\n",
       "    </tr>\n",
       "    <tr>\n",
       "      <th>198</th>\n",
       "      <td>199</td>\n",
       "      <td>Male</td>\n",
       "      <td>32</td>\n",
       "      <td>137</td>\n",
       "      <td>18</td>\n",
       "      <td>0</td>\n",
       "    </tr>\n",
       "    <tr>\n",
       "      <th>199</th>\n",
       "      <td>200</td>\n",
       "      <td>Male</td>\n",
       "      <td>30</td>\n",
       "      <td>137</td>\n",
       "      <td>83</td>\n",
       "      <td>1</td>\n",
       "    </tr>\n",
       "  </tbody>\n",
       "</table>\n",
       "<p>200 rows × 6 columns</p>\n",
       "</div>"
      ],
      "text/plain": [
       "     CustomerID  Gender  Age  Annual Income (k$)  Spending Score (1-100)  \\\n",
       "0             1    Male   19                  15                      39   \n",
       "1             2    Male   21                  15                      81   \n",
       "2             3  Female   20                  16                       6   \n",
       "3             4  Female   23                  16                      77   \n",
       "4             5  Female   31                  17                      40   \n",
       "..          ...     ...  ...                 ...                     ...   \n",
       "195         196  Female   35                 120                      79   \n",
       "196         197  Female   45                 126                      28   \n",
       "197         198    Male   32                 126                      74   \n",
       "198         199    Male   32                 137                      18   \n",
       "199         200    Male   30                 137                      83   \n",
       "\n",
       "     Purchased  \n",
       "0            0  \n",
       "1            0  \n",
       "2            0  \n",
       "3            0  \n",
       "4            0  \n",
       "..         ...  \n",
       "195          1  \n",
       "196          0  \n",
       "197          1  \n",
       "198          0  \n",
       "199          1  \n",
       "\n",
       "[200 rows x 6 columns]"
      ]
     },
     "execution_count": 3,
     "metadata": {},
     "output_type": "execute_result"
    }
   ],
   "source": [
    "dataset"
   ]
  },
  {
   "cell_type": "markdown",
   "id": "d3feadbc",
   "metadata": {},
   "source": [
    "<br>\n",
    "<br>\n",
    "Cleaning the dataset to avoid errors"
   ]
  },
  {
   "cell_type": "code",
   "execution_count": 4,
   "id": "7ddd2759",
   "metadata": {},
   "outputs": [],
   "source": [
    "EncodeTcpFlag = pd.get_dummies(dataset['Gender'])"
   ]
  },
  {
   "cell_type": "code",
   "execution_count": 5,
   "id": "711c745b",
   "metadata": {},
   "outputs": [],
   "source": [
    "dataset = pd.concat((dataset,EncodeTcpFlag),axis =1)\n",
    "columnsToDrop = ['Gender','CustomerID']\n",
    "dataset = dataset.drop(columnsToDrop,axis=1)"
   ]
  },
  {
   "cell_type": "code",
   "execution_count": 6,
   "id": "89944cbe",
   "metadata": {},
   "outputs": [
    {
     "data": {
      "text/html": [
       "<div>\n",
       "<style scoped>\n",
       "    .dataframe tbody tr th:only-of-type {\n",
       "        vertical-align: middle;\n",
       "    }\n",
       "\n",
       "    .dataframe tbody tr th {\n",
       "        vertical-align: top;\n",
       "    }\n",
       "\n",
       "    .dataframe thead th {\n",
       "        text-align: right;\n",
       "    }\n",
       "</style>\n",
       "<table border=\"1\" class=\"dataframe\">\n",
       "  <thead>\n",
       "    <tr style=\"text-align: right;\">\n",
       "      <th></th>\n",
       "      <th>Age</th>\n",
       "      <th>Annual Income (k$)</th>\n",
       "      <th>Spending Score (1-100)</th>\n",
       "      <th>Purchased</th>\n",
       "      <th>Female</th>\n",
       "      <th>Male</th>\n",
       "    </tr>\n",
       "  </thead>\n",
       "  <tbody>\n",
       "    <tr>\n",
       "      <th>0</th>\n",
       "      <td>19</td>\n",
       "      <td>15</td>\n",
       "      <td>39</td>\n",
       "      <td>0</td>\n",
       "      <td>0</td>\n",
       "      <td>1</td>\n",
       "    </tr>\n",
       "    <tr>\n",
       "      <th>1</th>\n",
       "      <td>21</td>\n",
       "      <td>15</td>\n",
       "      <td>81</td>\n",
       "      <td>0</td>\n",
       "      <td>0</td>\n",
       "      <td>1</td>\n",
       "    </tr>\n",
       "    <tr>\n",
       "      <th>2</th>\n",
       "      <td>20</td>\n",
       "      <td>16</td>\n",
       "      <td>6</td>\n",
       "      <td>0</td>\n",
       "      <td>1</td>\n",
       "      <td>0</td>\n",
       "    </tr>\n",
       "    <tr>\n",
       "      <th>3</th>\n",
       "      <td>23</td>\n",
       "      <td>16</td>\n",
       "      <td>77</td>\n",
       "      <td>0</td>\n",
       "      <td>1</td>\n",
       "      <td>0</td>\n",
       "    </tr>\n",
       "    <tr>\n",
       "      <th>4</th>\n",
       "      <td>31</td>\n",
       "      <td>17</td>\n",
       "      <td>40</td>\n",
       "      <td>0</td>\n",
       "      <td>1</td>\n",
       "      <td>0</td>\n",
       "    </tr>\n",
       "    <tr>\n",
       "      <th>...</th>\n",
       "      <td>...</td>\n",
       "      <td>...</td>\n",
       "      <td>...</td>\n",
       "      <td>...</td>\n",
       "      <td>...</td>\n",
       "      <td>...</td>\n",
       "    </tr>\n",
       "    <tr>\n",
       "      <th>195</th>\n",
       "      <td>35</td>\n",
       "      <td>120</td>\n",
       "      <td>79</td>\n",
       "      <td>1</td>\n",
       "      <td>1</td>\n",
       "      <td>0</td>\n",
       "    </tr>\n",
       "    <tr>\n",
       "      <th>196</th>\n",
       "      <td>45</td>\n",
       "      <td>126</td>\n",
       "      <td>28</td>\n",
       "      <td>0</td>\n",
       "      <td>1</td>\n",
       "      <td>0</td>\n",
       "    </tr>\n",
       "    <tr>\n",
       "      <th>197</th>\n",
       "      <td>32</td>\n",
       "      <td>126</td>\n",
       "      <td>74</td>\n",
       "      <td>1</td>\n",
       "      <td>0</td>\n",
       "      <td>1</td>\n",
       "    </tr>\n",
       "    <tr>\n",
       "      <th>198</th>\n",
       "      <td>32</td>\n",
       "      <td>137</td>\n",
       "      <td>18</td>\n",
       "      <td>0</td>\n",
       "      <td>0</td>\n",
       "      <td>1</td>\n",
       "    </tr>\n",
       "    <tr>\n",
       "      <th>199</th>\n",
       "      <td>30</td>\n",
       "      <td>137</td>\n",
       "      <td>83</td>\n",
       "      <td>1</td>\n",
       "      <td>0</td>\n",
       "      <td>1</td>\n",
       "    </tr>\n",
       "  </tbody>\n",
       "</table>\n",
       "<p>200 rows × 6 columns</p>\n",
       "</div>"
      ],
      "text/plain": [
       "     Age  Annual Income (k$)  Spending Score (1-100)  Purchased  Female  Male\n",
       "0     19                  15                      39          0       0     1\n",
       "1     21                  15                      81          0       0     1\n",
       "2     20                  16                       6          0       1     0\n",
       "3     23                  16                      77          0       1     0\n",
       "4     31                  17                      40          0       1     0\n",
       "..   ...                 ...                     ...        ...     ...   ...\n",
       "195   35                 120                      79          1       1     0\n",
       "196   45                 126                      28          0       1     0\n",
       "197   32                 126                      74          1       0     1\n",
       "198   32                 137                      18          0       0     1\n",
       "199   30                 137                      83          1       0     1\n",
       "\n",
       "[200 rows x 6 columns]"
      ]
     },
     "execution_count": 6,
     "metadata": {},
     "output_type": "execute_result"
    }
   ],
   "source": [
    "dataset"
   ]
  },
  {
   "cell_type": "code",
   "execution_count": 7,
   "id": "a060fc27",
   "metadata": {},
   "outputs": [
    {
     "data": {
      "text/plain": [
       "Index(['Age', 'Annual Income (k$)', 'Spending Score (1-100)', 'Purchased',\n",
       "       'Female', 'Male'],\n",
       "      dtype='object')"
      ]
     },
     "execution_count": 7,
     "metadata": {},
     "output_type": "execute_result"
    }
   ],
   "source": [
    "dataset.columns"
   ]
  },
  {
   "cell_type": "markdown",
   "id": "fee51846",
   "metadata": {},
   "source": [
    "--------------"
   ]
  },
  {
   "cell_type": "markdown",
   "id": "d8dbd88a",
   "metadata": {},
   "source": [
    "### Setting X and y Values to train and test"
   ]
  },
  {
   "cell_type": "code",
   "execution_count": 8,
   "id": "f96728dc",
   "metadata": {},
   "outputs": [],
   "source": [
    "X = pd.DataFrame(dataset, columns=['Age', 'Annual Income (k$)', 'Spending Score (1-100)','Female', 'Male'])\n",
    "y = dataset['Purchased']"
   ]
  },
  {
   "cell_type": "code",
   "execution_count": 9,
   "id": "4725ec5f",
   "metadata": {},
   "outputs": [
    {
     "data": {
      "text/plain": [
       "(200, 5)"
      ]
     },
     "execution_count": 9,
     "metadata": {},
     "output_type": "execute_result"
    }
   ],
   "source": [
    "X.shape"
   ]
  },
  {
   "cell_type": "code",
   "execution_count": 12,
   "id": "d23f0b30",
   "metadata": {},
   "outputs": [
    {
     "data": {
      "text/plain": [
       "(200,)"
      ]
     },
     "execution_count": 12,
     "metadata": {},
     "output_type": "execute_result"
    }
   ],
   "source": [
    "y.shape"
   ]
  },
  {
   "cell_type": "markdown",
   "id": "3371ae38",
   "metadata": {},
   "source": [
    "--------------"
   ]
  },
  {
   "cell_type": "markdown",
   "id": "4aff2d70",
   "metadata": {},
   "source": [
    "### Splitting the Data and training it"
   ]
  },
  {
   "cell_type": "code",
   "execution_count": 13,
   "id": "eb663d51",
   "metadata": {},
   "outputs": [],
   "source": [
    "from sklearn.model_selection import train_test_split\n",
    "X_train, X_test, y_train, y_test = train_test_split(X, y, test_size = 0.25, random_state = 0)"
   ]
  },
  {
   "cell_type": "code",
   "execution_count": 112,
   "id": "dee368af",
   "metadata": {},
   "outputs": [
    {
     "data": {
      "text/plain": [
       "(150, 5)"
      ]
     },
     "execution_count": 112,
     "metadata": {},
     "output_type": "execute_result"
    }
   ],
   "source": [
    "X_train.shape"
   ]
  },
  {
   "cell_type": "code",
   "execution_count": 111,
   "id": "f71f58d3",
   "metadata": {},
   "outputs": [
    {
     "data": {
      "text/plain": [
       "(150,)"
      ]
     },
     "execution_count": 111,
     "metadata": {},
     "output_type": "execute_result"
    }
   ],
   "source": [
    "y_train.shape"
   ]
  },
  {
   "cell_type": "code",
   "execution_count": 110,
   "id": "a36bd3d7",
   "metadata": {},
   "outputs": [
    {
     "data": {
      "text/plain": [
       "(50, 5)"
      ]
     },
     "execution_count": 110,
     "metadata": {},
     "output_type": "execute_result"
    }
   ],
   "source": [
    "X_test.shape"
   ]
  },
  {
   "cell_type": "markdown",
   "id": "f3914187",
   "metadata": {},
   "source": [
    "<br><br>Traning the data "
   ]
  },
  {
   "cell_type": "code",
   "execution_count": 18,
   "id": "e88182c9",
   "metadata": {},
   "outputs": [],
   "source": [
    "from sklearn.preprocessing import StandardScaler\n",
    "sc = StandardScaler()\n",
    "X_train = sc.fit_transform(X_train)\n",
    "X_test = sc.transform(X_test)"
   ]
  },
  {
   "cell_type": "code",
   "execution_count": 19,
   "id": "daeca274",
   "metadata": {},
   "outputs": [
    {
     "name": "stdout",
     "output_type": "stream",
     "text": [
      "[[ 0.59131873 -0.44803883 -0.32700149  0.86266219 -0.86266219]\n",
      " [-1.10084935  0.34173303 -0.84206846  0.86266219 -0.86266219]\n",
      " [ 0.16827671  1.43237037 -0.4458631   0.86266219 -0.86266219]\n",
      " [-0.81882133 -0.03434881 -0.0100372   0.86266219 -0.86266219]\n",
      " [-0.32527231  0.6425985   1.57478423 -1.15920231  1.15920231]\n",
      " [ 1.08486776 -1.23781069 -1.43637649  0.86266219 -0.86266219]\n",
      " [ 1.50790978 -1.16259433 -1.83258185 -1.15920231  1.15920231]\n",
      " [ 1.22588177  0.68020669 -0.60434524  0.86266219 -0.86266219]\n",
      " [ 1.8604448  -0.86172885 -0.60434524  0.86266219 -0.86266219]\n",
      " [ 0.87334675 -0.63607975 -0.0100372   0.86266219 -0.86266219]\n",
      " [ 0.02726271  0.37934122  0.98047619 -1.15920231  1.15920231]\n",
      " [ 0.59131873 -0.03434881 -0.12889881  0.86266219 -0.86266219]\n",
      " [-0.46628632  1.357154    1.41630209  0.86266219 -0.86266219]\n",
      " [-0.25476531 -1.42585161  1.89174852  0.86266219 -0.86266219]\n",
      " [-0.0432443   0.6425985   1.02009673  0.86266219 -0.86266219]\n",
      " [ 0.66182574 -0.03434881 -0.04965774 -1.15920231  1.15920231]\n",
      " [ 0.80283975 -0.67368793 -0.20813988  0.86266219 -0.86266219]\n",
      " [-0.53679332  0.75542305  1.69364584  0.86266219 -0.86266219]\n",
      " [-0.39577931 -0.71129612  0.38616816 -1.15920231  1.15920231]\n",
      " [ 1.15537476 -0.14717336  0.30692708  0.86266219 -0.86266219]\n",
      " [-0.25476531  0.49216577  0.86161459  0.86266219 -0.86266219]\n",
      " [ 2.07196581 -0.07195699  0.18806548  0.86266219 -0.86266219]\n",
      " [-0.46628632  0.45455758  0.90123512 -1.15920231  1.15920231]\n",
      " [ 0.73233274  0.04086756 -0.08927827  0.86266219 -0.86266219]\n",
      " [-0.95983534  0.60499032 -1.51561757 -1.15920231  1.15920231]\n",
      " [ 0.80283975 -0.10956518 -0.16851935  0.86266219 -0.86266219]\n",
      " [ 1.9309518   0.07847574 -0.08927827 -1.15920231  1.15920231]\n",
      " [-0.1137513  -1.53867617 -1.47599703 -1.15920231  1.15920231]\n",
      " [-0.25476531 -1.23781069  0.42578869 -1.15920231  1.15920231]\n",
      " [-0.46628632  0.52977395  1.69364584 -1.15920231  1.15920231]\n",
      " [-0.74831433  1.50758673  0.70313244 -1.15920231  1.15920231]\n",
      " [ 0.80283975 -0.78651249  0.18806548  0.86266219 -0.86266219]\n",
      " [-1.38287736  0.49216577 -1.59485864 -1.15920231  1.15920231]\n",
      " [-0.25476531  2.22214223  1.13895834  0.86266219 -0.86266219]\n",
      " [ 2.07196581  0.07847574 -0.28738095 -1.15920231  1.15920231]\n",
      " [ 2.0014588  -0.5232552   0.06920387  0.86266219 -0.86266219]\n",
      " [-1.31237036 -1.6891089  -1.75334078  0.86266219 -0.86266219]\n",
      " [ 1.01436076 -0.56086338 -0.16851935 -1.15920231  1.15920231]\n",
      " [ 0.37979772  0.45455758 -1.71372025  0.86266219 -0.86266219]\n",
      " [-0.46628632  2.44779133  0.94085566 -1.15920231  1.15920231]\n",
      " [-0.53679332 -0.82412067  0.42578869  0.86266219 -0.86266219]\n",
      " [ 2.0014588  -1.57628435 -1.43637649 -1.15920231  1.15920231]\n",
      " [ 0.59131873  2.22214223 -1.35713542  0.86266219 -0.86266219]\n",
      " [ 1.50790978 -0.41043065  0.22768601  0.86266219 -0.86266219]\n",
      " [ 0.45030473  2.44779133 -0.88168899  0.86266219 -0.86266219]\n",
      " [ 1.43740278  1.20672126 -1.43637649 -1.15920231  1.15920231]\n",
      " [-0.60730032  1.01868034  1.41630209  0.86266219 -0.86266219]\n",
      " [ 0.30929072  0.37934122 -0.60434524 -1.15920231  1.15920231]\n",
      " [ 0.09776971 -0.03434881 -0.40624256  0.86266219 -0.86266219]\n",
      " [-0.0432443   0.11608393 -0.32700149  0.86266219 -0.86266219]\n",
      " [-0.32527231  0.6425985  -1.95144346 -1.15920231  1.15920231]\n",
      " [-0.46628632  1.5828031   0.74275298  0.86266219 -0.86266219]\n",
      " [ 0.73233274 -0.71129612  0.06920387  0.86266219 -0.86266219]\n",
      " [-1.38287736 -1.72671709 -0.4458631  -1.15920231  1.15920231]\n",
      " [-0.46628632 -0.03434881 -0.32700149  0.86266219 -0.86266219]\n",
      " [ 1.8604448   0.07847574  0.06920387 -1.15920231  1.15920231]\n",
      " [-1.03034234 -0.03434881  0.06920387 -1.15920231  1.15920231]\n",
      " [ 1.71943079 -0.48564702  0.02958333 -1.15920231  1.15920231]\n",
      " [-0.39577931  0.94346397  1.77288691  0.86266219 -0.86266219]\n",
      " [-1.03034234 -0.86172885  1.6540253  -1.15920231  1.15920231]\n",
      " [-0.46628632 -0.48564702 -0.12889881  0.86266219 -0.86266219]\n",
      " [-0.53679332 -0.78651249 -0.32700149  0.86266219 -0.86266219]\n",
      " [-0.67780733 -0.78651249 -0.32700149  0.86266219 -0.86266219]\n",
      " [ 0.66182574 -0.25999791 -0.16851935 -1.15920231  1.15920231]\n",
      " [-1.03034234 -1.53867617  1.05971727  0.86266219 -0.86266219]\n",
      " [-0.67780733  0.68020669  1.29744048  0.86266219 -0.86266219]\n",
      " [-0.53679332 -1.35063525  0.90123512 -1.15920231  1.15920231]\n",
      " [ 1.08486776  1.50758673 -1.04017114  0.86266219 -0.86266219]\n",
      " [-0.67780733  0.45455758  1.49554316  0.86266219 -0.86266219]\n",
      " [-0.25476531 -1.38824343 -0.60434524 -1.15920231  1.15920231]\n",
      " [-1.17135635 -1.53867617  1.13895834 -1.15920231  1.15920231]\n",
      " [-1.10084935 -0.25999791  0.06920387  0.86266219 -0.86266219]\n",
      " [ 0.73233274  0.04086756  0.22768601 -1.15920231  1.15920231]\n",
      " [-0.53679332 -0.67368793  0.14844494  0.86266219 -0.86266219]\n",
      " [-1.10084935  0.04086756 -0.36662203  0.86266219 -0.86266219]\n",
      " [ 0.45030473 -0.25999791  0.10882441  0.86266219 -0.86266219]\n",
      " [-1.10084935 -1.6891089   1.05971727  0.86266219 -0.86266219]\n",
      " [ 1.71943079  0.15369211 -0.28738095  0.86266219 -0.86266219]\n",
      " [ 0.80283975  0.90585579 -0.96093006 -1.15920231  1.15920231]\n",
      " [-0.46628632  2.86148135 -1.27789435 -1.15920231  1.15920231]\n",
      " [-0.25476531 -1.61389253 -1.75334078  0.86266219 -0.86266219]\n",
      " [-1.38287736 -0.48564702  0.34654762 -1.15920231  1.15920231]\n",
      " [-1.24186335 -0.25999791  0.26730655  0.86266219 -0.86266219]\n",
      " [-0.0432443   0.22890848 -0.40624256  0.86266219 -0.86266219]\n",
      " [-0.81882133  0.6425985   1.5351637   0.86266219 -0.86266219]\n",
      " [-0.74831433  0.98107216  0.98047619 -1.15920231  1.15920231]\n",
      " [-0.1137513   0.6425985  -1.95144346 -1.15920231  1.15920231]\n",
      " [-1.45338436 -0.07195699 -0.36662203 -1.15920231  1.15920231]\n",
      " [-0.60730032  2.86148135  1.29744048 -1.15920231  1.15920231]\n",
      " [-0.25476531 -1.57628435  1.93136906  0.86266219 -0.86266219]\n",
      " [ 0.80283975  0.22890848  0.26730655  0.86266219 -0.86266219]\n",
      " [ 2.0014588   0.04086756  0.34654762 -1.15920231  1.15920231]\n",
      " [-1.24186335 -1.04976977  1.21819941  0.86266219 -0.86266219]\n",
      " [ 2.14247281 -0.63607975 -0.16851935 -1.15920231  1.15920231]\n",
      " [-1.45338436 -0.48564702  0.34654762 -1.15920231  1.15920231]\n",
      " [-1.24186335 -1.72671709  1.21819941 -1.15920231  1.15920231]\n",
      " [-0.81882133  0.22890848  0.22768601 -1.15920231  1.15920231]\n",
      " [-1.38287736  0.75542305 -1.79296132 -1.15920231  1.15920231]\n",
      " [ 0.66182574 -0.82412067 -0.5647247  -1.15920231  1.15920231]\n",
      " [-1.24186335  0.04086756 -0.32700149  0.86266219 -0.86266219]\n",
      " [-0.95983534  0.4169494  -0.64396578  0.86266219 -0.86266219]\n",
      " [-0.1842583   0.98107216  1.6540253  -1.15920231  1.15920231]\n",
      " [-1.31237036 -1.50106798  0.62389137 -1.15920231  1.15920231]\n",
      " [-0.1842583  -0.89933704 -0.96093006  0.86266219 -0.86266219]\n",
      " [-0.53679332  0.4169494   0.82199405  0.86266219 -0.86266219]\n",
      " [ 1.43740278 -0.67368793  0.38616816 -1.15920231  1.15920231]\n",
      " [-0.60730032  0.6425985   1.0993378   0.86266219 -0.86266219]\n",
      " [ 1.43740278  0.37934122 -1.5552381  -1.15920231  1.15920231]\n",
      " [ 0.73233274 -1.04976977 -1.43637649  0.86266219 -0.86266219]\n",
      " [ 0.09776971 -1.20020251 -0.76282738  0.86266219 -0.86266219]\n",
      " [-1.45338436  0.15369211 -0.08927827  0.86266219 -0.86266219]\n",
      " [ 0.02726271  0.6425985   1.49554316 -1.15920231  1.15920231]\n",
      " [-1.24186335 -1.16259433  0.90123512  0.86266219 -0.86266219]\n",
      " [ 0.23878372  0.94346397 -1.19865328 -1.15920231  1.15920231]\n",
      " [ 0.09776971  0.37934122  1.77288691 -1.15920231  1.15920231]\n",
      " [ 1.36689577  1.01868034 -1.39675596 -1.15920231  1.15920231]\n",
      " [ 1.01436076 -1.04976977 -1.83258185 -1.15920231  1.15920231]\n",
      " [-0.74831433  0.56738213 -0.40624256  0.86266219 -0.86266219]\n",
      " [-0.46628632  0.98107216  0.50502976 -1.15920231  1.15920231]\n",
      " [-0.46628632  0.60499032  0.94085566  0.86266219 -0.86266219]\n",
      " [-1.10084935 -1.20020251  1.45592263  0.86266219 -0.86266219]\n",
      " [-1.31237036  0.00325938 -0.04965774 -1.15920231  1.15920231]\n",
      " [ 2.0014588  -0.25999791 -0.36662203 -1.15920231  1.15920231]\n",
      " [ 0.73233274 -0.25999791 -0.32700149  0.86266219 -0.86266219]\n",
      " [-1.38287736  0.15369211 -0.0100372   0.86266219 -0.86266219]\n",
      " [-0.32527231  0.6425985  -1.11941221  0.86266219 -0.86266219]\n",
      " [-0.0432443   1.95888494  1.61440477  0.86266219 -0.86266219]\n",
      " [ 1.50790978 -0.41043065 -0.04965774  0.86266219 -0.86266219]\n",
      " [ 0.09776971 -0.25999791 -0.08927827 -1.15920231  1.15920231]\n",
      " [-0.67780733 -1.23781069  1.25781995 -1.15920231  1.15920231]\n",
      " [-0.1842583   0.90585579  0.98047619  0.86266219 -0.86266219]\n",
      " [-0.0432443  -0.25999791  0.18806548 -1.15920231  1.15920231]\n",
      " [ 0.16827671  1.5828031  -1.31751489  0.86266219 -0.86266219]\n",
      " [ 0.94385375  1.01868034 -1.47599703  0.86266219 -0.86266219]\n",
      " [-0.32527231  1.5828031  -1.07979167  0.86266219 -0.86266219]\n",
      " [-1.31237036 -0.89933704  0.98047619  0.86266219 -0.86266219]\n",
      " [-0.81882133 -0.56086338  0.02958333  0.86266219 -0.86266219]\n",
      " [ 1.29638877  0.52977395 -1.79296132  0.86266219 -0.86266219]\n",
      " [-0.32527231 -0.10956518  0.38616816  0.86266219 -0.86266219]\n",
      " [ 2.21297981 -0.44803883  0.18806548 -1.15920231  1.15920231]\n",
      " [-1.17135635 -0.14717336  0.18806548  0.86266219 -0.86266219]\n",
      " [ 0.23878372 -1.01216159 -1.31751489  0.86266219 -0.86266219]\n",
      " [-0.95983534 -1.38824343  0.90123512 -1.15920231  1.15920231]\n",
      " [-0.60730032 -1.57628435  0.86161459  0.86266219 -0.86266219]\n",
      " [-0.88932834  0.04086756  0.18806548 -1.15920231  1.15920231]\n",
      " [ 2.07196581 -0.48564702 -0.08927827  0.86266219 -0.86266219]\n",
      " [-0.39577931  1.95888494 -1.67409971 -1.15920231  1.15920231]\n",
      " [ 0.73233274  0.15369211  0.34654762  0.86266219 -0.86266219]\n",
      " [-0.81882133 -0.78651249 -0.12889881  0.86266219 -0.86266219]\n",
      " [-0.1842583   0.98107216 -1.59485864 -1.15920231  1.15920231]]\n"
     ]
    }
   ],
   "source": [
    "print(X_train)"
   ]
  },
  {
   "cell_type": "code",
   "execution_count": 20,
   "id": "51700626",
   "metadata": {},
   "outputs": [
    {
     "name": "stdout",
     "output_type": "stream",
     "text": [
      "[[ 0.94385375 -1.42585161 -0.84206846 -1.15920231  1.15920231]\n",
      " [ 0.09776971  0.98107216 -1.47599703 -1.15920231  1.15920231]\n",
      " [ 1.08486776  0.07847574 -0.16851935 -1.15920231  1.15920231]\n",
      " [ 0.66182574  0.00325938 -0.32700149 -1.15920231  1.15920231]\n",
      " [-0.81882133  1.01868034  0.74275298 -1.15920231  1.15920231]\n",
      " [ 0.52081173  1.39476218 -1.39675596 -1.15920231  1.15920231]\n",
      " [-1.17135635 -1.65150072  1.02009673  0.86266219 -0.86266219]\n",
      " [ 0.66182574  0.60499032 -0.5647247  -1.15920231  1.15920231]\n",
      " [ 1.36689577 -1.53867617 -1.39675596  0.86266219 -0.86266219]\n",
      " [ 0.37979772  0.6425985  -1.19865328  0.86266219 -0.86266219]\n",
      " [-1.38287736 -0.56086338  0.18806548 -1.15920231  1.15920231]\n",
      " [-0.53679332  0.34173303  1.05971727  0.86266219 -0.86266219]\n",
      " [-0.1137513   1.357154   -0.72320685  0.86266219 -0.86266219]\n",
      " [ 0.59131873  0.6425985  -1.35713542  0.86266219 -0.86266219]\n",
      " [ 1.29638877 -0.25999791  0.02958333 -1.15920231  1.15920231]\n",
      " [-1.10084935 -1.61389253  1.73326638  0.86266219 -0.86266219]\n",
      " [-1.45338436 -1.04976977  1.6540253  -1.15920231  1.15920231]\n",
      " [ 0.59131873  0.37934122 -1.63447917 -1.15920231  1.15920231]\n",
      " [-0.60730032 -1.01216159  0.90123512  0.86266219 -0.86266219]\n",
      " [ 1.43740278 -0.25999791 -0.12889881 -1.15920231  1.15920231]\n",
      " [-0.67780733  1.39476218  1.49554316  0.86266219 -0.86266219]\n",
      " [-0.74831433  0.60499032  1.85212798 -1.15920231  1.15920231]\n",
      " [-1.03034234 -0.82412067  0.58427084  0.86266219 -0.86266219]\n",
      " [-0.60730032  0.6425985   0.90123512  0.86266219 -0.86266219]\n",
      " [ 2.21297981 -0.56086338  0.22768601 -1.15920231  1.15920231]\n",
      " [ 0.02726271  0.30412485  1.61440477 -1.15920231  1.15920231]\n",
      " [-0.25476531  1.20672126  1.57478423 -1.15920231  1.15920231]\n",
      " [-0.60730032  1.43237037  1.85212798 -1.15920231  1.15920231]\n",
      " [ 0.09776971  0.30412485  0.30692708  0.86266219 -0.86266219]\n",
      " [ 0.73233274 -0.82412067 -0.88168899  0.86266219 -0.86266219]\n",
      " [-0.25476531 -1.50106798 -0.60434524  0.86266219 -0.86266219]\n",
      " [ 0.59131873 -0.67368793 -0.36662203 -1.15920231  1.15920231]\n",
      " [ 0.30929072  0.6425985  -1.31751489 -1.15920231  1.15920231]\n",
      " [-1.38287736  0.07847574  0.14844494  0.86266219 -0.86266219]\n",
      " [ 0.52081173 -1.35063525 -1.79296132  0.86266219 -0.86266219]\n",
      " [-0.1842583   1.5828031   1.37668155  0.86266219 -0.86266219]\n",
      " [-0.0432443   0.37934122  0.98047619 -1.15920231  1.15920231]\n",
      " [-0.53679332 -1.65150072 -0.40624256  0.86266219 -0.86266219]\n",
      " [ 0.52081173 -0.25999791 -0.24776042  0.86266219 -0.86266219]\n",
      " [ 1.9309518   0.07847574 -0.0100372   0.86266219 -0.86266219]\n",
      " [-1.31237036  0.45455758 -1.79296132 -1.15920231  1.15920231]\n",
      " [ 0.30929072 -0.48564702 -0.0100372   0.86266219 -0.86266219]\n",
      " [ 0.45030473 -1.23781069 -0.72320685  0.86266219 -0.86266219]\n",
      " [-1.38287736  0.11608393 -0.16851935 -1.15920231  1.15920231]\n",
      " [-0.1842583   0.98107216 -0.92130953  0.86266219 -0.86266219]\n",
      " [ 1.08486776 -0.5232552   0.34654762  0.86266219 -0.86266219]\n",
      " [ 1.78993779 -1.57628435 -1.87220239 -1.15920231  1.15920231]\n",
      " [-0.88932834 -0.25999791  0.14844494 -1.15920231  1.15920231]\n",
      " [ 0.87334675  0.22890848 -0.28738095  0.86266219 -0.86266219]\n",
      " [-0.46628632  0.56738213  1.45592263  0.86266219 -0.86266219]]\n"
     ]
    }
   ],
   "source": [
    "print(X_test)"
   ]
  },
  {
   "cell_type": "code",
   "execution_count": 113,
   "id": "89a101db",
   "metadata": {},
   "outputs": [
    {
     "data": {
      "text/plain": [
       "KNeighborsClassifier(n_neighbors=3)"
      ]
     },
     "execution_count": 113,
     "metadata": {},
     "output_type": "execute_result"
    }
   ],
   "source": [
    "from sklearn.neighbors import KNeighborsClassifier\n",
    "classifier = KNeighborsClassifier(n_neighbors = 3, metric = 'minkowski', p = 2)\n",
    "classifier.fit(X_train, y_train)"
   ]
  },
  {
   "cell_type": "markdown",
   "id": "b591c080",
   "metadata": {},
   "source": [
    "<br><br> <b>Testing the Training Data"
   ]
  },
  {
   "cell_type": "markdown",
   "id": "c9ebbdd0",
   "metadata": {},
   "source": [
    "age = 30\n",
    "\n",
    "Annual Income = 75K\n",
    "\n",
    "Spending Score = 88%\n",
    "\n",
    "Female\n",
    "\n",
    "not male \n",
    "\n",
    "The answer should be [1]"
   ]
  },
  {
   "cell_type": "code",
   "execution_count": 114,
   "id": "c7c20485",
   "metadata": {},
   "outputs": [
    {
     "name": "stdout",
     "output_type": "stream",
     "text": [
      "[1]\n"
     ]
    }
   ],
   "source": [
    "print(classifier.predict(sc.transform([[30,75,88,1,0]])))"
   ]
  },
  {
   "cell_type": "markdown",
   "id": "00d7f1e6",
   "metadata": {},
   "source": [
    "<br><br>\n",
    "age = 18 \n",
    "\n",
    "Annual Income = 5 \n",
    "\n",
    "Spending Score = 10% \n",
    "\n",
    "Not Female \n",
    "\n",
    "male \n",
    "\n",
    "The answer should be [0] \n"
   ]
  },
  {
   "cell_type": "code",
   "execution_count": 116,
   "id": "4532f42f",
   "metadata": {},
   "outputs": [
    {
     "name": "stdout",
     "output_type": "stream",
     "text": [
      "[0]\n"
     ]
    }
   ],
   "source": [
    "print(classifier.predict(sc.transform([[18,5,10,0,1]])))"
   ]
  },
  {
   "cell_type": "markdown",
   "id": "70b77040",
   "metadata": {},
   "source": [
    "--------"
   ]
  },
  {
   "cell_type": "markdown",
   "id": "48336c69",
   "metadata": {},
   "source": [
    "## Accuracy Matrix"
   ]
  },
  {
   "cell_type": "code",
   "execution_count": 120,
   "id": "953b0060",
   "metadata": {},
   "outputs": [
    {
     "name": "stdout",
     "output_type": "stream",
     "text": [
      "[[16  4]\n",
      " [ 3 27]]\n",
      "\n",
      "The accuracy is 86.0%\n"
     ]
    }
   ],
   "source": [
    "from sklearn.metrics import confusion_matrix, accuracy_score\n",
    "cm = confusion_matrix(y_test, y_pred)\n",
    "print(cm)\n",
    "acc = accuracy_score(y_test, y_pred)\n",
    "print(f'\\nThe accuracy is {acc*100}%')"
   ]
  },
  {
   "cell_type": "markdown",
   "id": "814604fd",
   "metadata": {},
   "source": [
    "---------------"
   ]
  },
  {
   "cell_type": "markdown",
   "id": "cdc04326",
   "metadata": {},
   "source": [
    "## KNN Cluster (Train & Predict ) \n",
    "### Way 2"
   ]
  },
  {
   "cell_type": "code",
   "execution_count": 32,
   "id": "04a2cec0",
   "metadata": {},
   "outputs": [],
   "source": [
    "from sklearn.cluster import KMeans"
   ]
  },
  {
   "cell_type": "code",
   "execution_count": 121,
   "id": "aabdf406",
   "metadata": {},
   "outputs": [],
   "source": [
    "K_Means_X = X"
   ]
  },
  {
   "cell_type": "markdown",
   "id": "e80ef34a",
   "metadata": {},
   "source": [
    "<br>\n",
    "<br>\n",
    "Finding the best number of n_clusters to be used "
   ]
  },
  {
   "cell_type": "code",
   "execution_count": 93,
   "id": "62edbb70",
   "metadata": {},
   "outputs": [
    {
     "data": {
      "image/png": "[encoded data removed]",
      "text/plain": [
       "<Figure size 640x480 with 1 Axes>"
      ]
     },
     "metadata": {},
     "output_type": "display_data"
    }
   ],
   "source": [
    "wcss = []\n",
    "for i in range(1, 11):\n",
    "     K_Means_CLS = KMeans(n_clusters = i, init= 'k-means++', random_state=100)\n",
    "     K_Means_CLS.fit(K_Means_X)  \n",
    "     wcss.append(K_Means_CLS.inertia_)\n",
    "plt.plot(range(1, 11),wcss)\n",
    "\n",
    "plt.title('Elbow Method')\n",
    "plt.xlabel('Number of Clusters')\n",
    "plt.ylabel('WCSS')\n",
    "plt.show()"
   ]
  },
  {
   "cell_type": "markdown",
   "id": "1a43a129",
   "metadata": {},
   "source": [
    "<br>\n",
    "<br>\n",
    "Train and Predict "
   ]
  },
  {
   "cell_type": "code",
   "execution_count": 103,
   "id": "3f5b3dbe",
   "metadata": {},
   "outputs": [],
   "source": [
    "K_Means_CLS = KMeans(n_clusters = 3, init = 'k-means++', random_state = 100)\n",
    "y_kmeans = K_Means_CLS.fit_predict(K_Means_X)"
   ]
  },
  {
   "cell_type": "code",
   "execution_count": 104,
   "id": "82f9a66c",
   "metadata": {},
   "outputs": [
    {
     "name": "stdout",
     "output_type": "stream",
     "text": [
      "[2 2 2 2 2 2 2 2 2 2 2 2 2 2 2 2 2 2 2 2 2 2 2 2 2 2 2 2 2 2 2 2 2 2 2 2 2\n",
      " 2 2 2 2 2 2 2 2 2 2 2 2 2 2 2 2 2 2 2 2 2 2 2 2 2 2 2 2 2 2 2 2 2 2 2 2 2\n",
      " 2 2 2 2 2 2 2 2 2 2 2 2 2 2 2 2 2 2 2 2 2 2 2 2 2 2 2 2 2 2 2 2 2 2 2 2 2\n",
      " 2 2 2 2 2 2 2 2 2 2 2 2 1 0 1 0 1 0 1 0 1 0 1 0 1 0 1 0 1 0 1 0 1 0 1 0 1\n",
      " 0 1 0 1 0 1 0 1 0 1 0 1 0 1 0 1 0 1 0 1 0 1 0 1 0 1 0 1 0 1 0 1 0 1 0 1 0\n",
      " 1 0 1 0 1 0 1 0 1 0 1 0 1 0 1]\n"
     ]
    }
   ],
   "source": [
    "print(y_kmeans)"
   ]
  },
  {
   "cell_type": "code",
   "execution_count": 108,
   "id": "37fd96ea",
   "metadata": {},
   "outputs": [
    {
     "data": {
      "image/png": "[encoded data removed]",
      "text/plain": [
       "<Figure size 640x480 with 1 Axes>"
      ]
     },
     "metadata": {},
     "output_type": "display_data"
    }
   ],
   "source": [
    "plt.scatter(K_Means_X[y_kmeans ==  0], K_Means_X[y_kmeans ==  0], s = 10, c = 'red', label = 'Cluster 1')\n",
    "plt.scatter(K_Means_X[y_kmeans ==  1], K_Means_X[y_kmeans ==  1], s = 10, c = 'blue', label = 'Cluster 2')\n",
    "\n",
    "plt.scatter(K_Means_CLS.cluster_centers_[:, 0], K_Means_CLS.cluster_centers_[:, 1], s = 150, c = 'yellow', label = 'Centroids')\n",
    "plt.title('Clusters Map')\n",
    "plt.xlabel('Length')\n",
    "plt.ylabel(' ')\n",
    "plt.legend()\n",
    "plt.show()"
   ]
  },
  {
   "cell_type": "markdown",
   "id": "2fe823ae",
   "metadata": {},
   "source": [
    "-------------------"
   ]
  }
 ],
 "metadata": {
  "kernelspec": {
   "display_name": "Python 3 (ipykernel)",
   "language": "python",
   "name": "python3"
  },
  "language_info": {
   "codemirror_mode": {
    "name": "ipython",
    "version": 3
   },
   "file_extension": ".py",
   "mimetype": "text/x-python",
   "name": "python",
   "nbconvert_exporter": "python",
   "pygments_lexer": "ipython3",
   "version": "3.9.13"
  }
 },
 "nbformat": 4,
 "nbformat_minor": 5
}
